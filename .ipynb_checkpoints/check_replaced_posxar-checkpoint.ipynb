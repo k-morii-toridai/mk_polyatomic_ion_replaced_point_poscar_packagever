{
 "cells": [
  {
   "cell_type": "code",
   "execution_count": 1,
   "id": "9d975927-3d95-464d-a225-bbb414b44140",
   "metadata": {
    "tags": []
   },
   "outputs": [],
   "source": [
    "import numpy as np"
   ]
  },
  {
   "cell_type": "markdown",
   "id": "d75c8276-a50b-4523-a7d2-07c71b5258e1",
   "metadata": {},
   "source": [
    "### BrO3"
   ]
  },
  {
   "cell_type": "code",
   "execution_count": 5,
   "id": "49225401-90f8-4af9-aee1-cdf86245dd8a",
   "metadata": {
    "tags": []
   },
   "outputs": [],
   "source": [
    "npy_path = '../get_some_ion_contained_pos_folder_p_list/BrO3_contained_poscar_folder_path_list_ver2.npy'\n",
    "\n",
    "ion_contained_pos_folder_p_list = np.load(npy_path, allow_pickle=True)\n",
    "print(ion_contained_pos_folder_p_list)"
   ]
  },
  {
   "cell_type": "code",
   "execution_count": 11,
   "id": "6653d915-4ac0-417c-9493-02751ead93ab",
   "metadata": {
    "tags": []
   },
   "outputs": [
    {
     "data": {
      "text/plain": [
       "[PosixPath('/mnt/ssd_elecom_c2c_960gb/cif/1/01/03/1010378/BrO3_ion_replaced_point'),\n",
       " PosixPath('/mnt/ssd_elecom_c2c_960gb/cif/1/01/03/1010378/cif2cell_log.txt'),\n",
       " PosixPath('/mnt/ssd_elecom_c2c_960gb/cif/1/01/03/1010378/nnlist_5'),\n",
       " PosixPath('/mnt/ssd_elecom_c2c_960gb/cif/1/01/03/1010378/POSCAR'),\n",
       " PosixPath('/mnt/ssd_elecom_c2c_960gb/cif/1/01/03/1010378/POSCAR.nnlist')]"
      ]
     },
     "execution_count": 11,
     "metadata": {},
     "output_type": "execute_result"
    }
   ],
   "source": [
    "list(ion_contained_pos_folder_p_list[0].iterdir())"
   ]
  },
  {
   "cell_type": "code",
   "execution_count": 23,
   "id": "3cdc2fcf-e191-4879-8e01-b707043e81b4",
   "metadata": {
    "tags": []
   },
   "outputs": [
    {
     "data": {
      "text/plain": [
       "['/mnt/ssd_elecom_c2c_960gb/cif/1/01/03/1010378/BrO3_ion_replaced_point/POSCAR',\n",
       " '/mnt/ssd_elecom_c2c_960gb/cif/1/01/04/1010446/BrO3_ion_replaced_point/POSCAR',\n",
       " '/mnt/ssd_elecom_c2c_960gb/cif/1/01/05/1010596/BrO3_ion_replaced_point/POSCAR',\n",
       " '/mnt/ssd_elecom_c2c_960gb/cif/1/53/41/1534177/BrO3_ion_replaced_point/POSCAR',\n",
       " '/mnt/ssd_elecom_c2c_960gb/cif/2/00/02/2000204/BrO3_ion_replaced_point/POSCAR',\n",
       " '/mnt/ssd_elecom_c2c_960gb/cif/2/00/02/2000244/BrO3_ion_replaced_point/POSCAR',\n",
       " '/mnt/ssd_elecom_c2c_960gb/cif/2/00/07/2000738/BrO3_ion_replaced_point/POSCAR',\n",
       " '/mnt/ssd_elecom_c2c_960gb/cif/2/02/03/2020356/BrO3_ion_replaced_point/POSCAR',\n",
       " '/mnt/ssd_elecom_c2c_960gb/cif/2/10/62/2106225/BrO3_ion_replaced_point/POSCAR',\n",
       " '/mnt/ssd_elecom_c2c_960gb/cif/4/12/22/4122207/BrO3_ion_replaced_point/POSCAR',\n",
       " '/mnt/ssd_elecom_c2c_960gb/cif/4/31/39/4313957/BrO3_ion_replaced_point/POSCAR',\n",
       " '/mnt/ssd_elecom_c2c_960gb/cif/4/31/39/4313958/BrO3_ion_replaced_point/POSCAR',\n",
       " '/mnt/ssd_elecom_c2c_960gb/cif/7/13/08/7130885/BrO3_ion_replaced_point/POSCAR',\n",
       " '/mnt/ssd_elecom_c2c_960gb/cif/7/22/29/7222997/BrO3_ion_replaced_point/POSCAR',\n",
       " '/mnt/ssd_elecom_c2c_960gb/cif/7/24/19/7241937/BrO3_ion_replaced_point/POSCAR',\n",
       " '/mnt/ssd_elecom_c2c_960gb/cif/7/24/19/7241939/BrO3_ion_replaced_point/POSCAR',\n",
       " '/mnt/ssd_elecom_c2c_960gb/cif/8/10/66/8106615/BrO3_ion_replaced_point/POSCAR',\n",
       " '/mnt/ssd_elecom_c2c_960gb/cif/9/01/53/9015382/BrO3_ion_replaced_point/POSCAR',\n",
       " '/mnt/ssd_elecom_c2c_960gb/cif/9/01/55/9015521/BrO3_ion_replaced_point/POSCAR',\n",
       " '/mnt/ssd_elecom_c2c_960gb/cif/9/01/66/9016641/BrO3_ion_replaced_point/POSCAR']"
      ]
     },
     "execution_count": 23,
     "metadata": {},
     "output_type": "execute_result"
    }
   ],
   "source": [
    "add_str_for_replaced = '/BrO3_ion_replaced_point/POSCAR'\n",
    "ion_replaced_point_poscar_p_list = [str(p) + add_str_for_replaced for p in ion_contained_pos_folder_p_list]\n",
    "ion_replaced_point_poscar_p_list"
   ]
  },
  {
   "cell_type": "code",
   "execution_count": 20,
   "id": "4d28c9c0-d7b3-4887-ac89-dfdc032162d7",
   "metadata": {
    "tags": []
   },
   "outputs": [
    {
     "data": {
      "text/plain": [
       "['E:/cif/1/01/03/1010378/BrO3_ion_replaced_point/POSCAR',\n",
       " 'E:/cif/1/01/04/1010446/BrO3_ion_replaced_point/POSCAR',\n",
       " 'E:/cif/1/01/05/1010596/BrO3_ion_replaced_point/POSCAR',\n",
       " 'E:/cif/1/53/41/1534177/BrO3_ion_replaced_point/POSCAR',\n",
       " 'E:/cif/2/00/02/2000204/BrO3_ion_replaced_point/POSCAR',\n",
       " 'E:/cif/2/00/02/2000244/BrO3_ion_replaced_point/POSCAR',\n",
       " 'E:/cif/2/00/07/2000738/BrO3_ion_replaced_point/POSCAR',\n",
       " 'E:/cif/2/02/03/2020356/BrO3_ion_replaced_point/POSCAR',\n",
       " 'E:/cif/2/10/62/2106225/BrO3_ion_replaced_point/POSCAR',\n",
       " 'E:/cif/4/12/22/4122207/BrO3_ion_replaced_point/POSCAR',\n",
       " 'E:/cif/4/31/39/4313957/BrO3_ion_replaced_point/POSCAR',\n",
       " 'E:/cif/4/31/39/4313958/BrO3_ion_replaced_point/POSCAR',\n",
       " 'E:/cif/7/13/08/7130885/BrO3_ion_replaced_point/POSCAR',\n",
       " 'E:/cif/7/22/29/7222997/BrO3_ion_replaced_point/POSCAR',\n",
       " 'E:/cif/7/24/19/7241937/BrO3_ion_replaced_point/POSCAR',\n",
       " 'E:/cif/7/24/19/7241939/BrO3_ion_replaced_point/POSCAR',\n",
       " 'E:/cif/8/10/66/8106615/BrO3_ion_replaced_point/POSCAR',\n",
       " 'E:/cif/9/01/53/9015382/BrO3_ion_replaced_point/POSCAR',\n",
       " 'E:/cif/9/01/55/9015521/BrO3_ion_replaced_point/POSCAR',\n",
       " 'E:/cif/9/01/66/9016641/BrO3_ion_replaced_point/POSCAR']"
      ]
     },
     "execution_count": 20,
     "metadata": {},
     "output_type": "execute_result"
    }
   ],
   "source": [
    "['E:' + p[25:] for p in ion_replaced_point_poscar_p_list]"
   ]
  },
  {
   "cell_type": "markdown",
   "id": "27ca35ef-609b-43ee-bf7a-732ee937d853",
   "metadata": {},
   "source": [
    "### NH4"
   ]
  },
  {
   "cell_type": "code",
   "execution_count": 28,
   "id": "7429c518-b914-4825-bbb1-12196a98194e",
   "metadata": {
    "tags": []
   },
   "outputs": [
    {
     "ename": "OSError",
     "evalue": "[Errno 19] No such device: '../get_some_ion_contained_pos_folder_p_list/NH4_contained_poscar_folder_path_list_ver2.npy'",
     "output_type": "error",
     "traceback": [
      "\u001b[0;31m---------------------------------------------------------------------------\u001b[0m",
      "\u001b[0;31mOSError\u001b[0m                                   Traceback (most recent call last)",
      "Cell \u001b[0;32mIn[28], line 3\u001b[0m\n\u001b[1;32m      1\u001b[0m npy_path \u001b[38;5;241m=\u001b[39m \u001b[38;5;124m'\u001b[39m\u001b[38;5;124m../get_some_ion_contained_pos_folder_p_list/NH4_contained_poscar_folder_path_list_ver2.npy\u001b[39m\u001b[38;5;124m'\u001b[39m\n\u001b[0;32m----> 3\u001b[0m ion_contained_pos_folder_p_list \u001b[38;5;241m=\u001b[39m \u001b[43mnp\u001b[49m\u001b[38;5;241;43m.\u001b[39;49m\u001b[43mload\u001b[49m\u001b[43m(\u001b[49m\u001b[43mnpy_path\u001b[49m\u001b[43m,\u001b[49m\u001b[43m \u001b[49m\u001b[43mallow_pickle\u001b[49m\u001b[38;5;241;43m=\u001b[39;49m\u001b[38;5;28;43;01mTrue\u001b[39;49;00m\u001b[43m)\u001b[49m\n\u001b[1;32m      4\u001b[0m \u001b[38;5;28mprint\u001b[39m(ion_contained_pos_folder_p_list)\n",
      "File \u001b[0;32m~/.local/lib/python3.10/site-packages/numpy/lib/npyio.py:390\u001b[0m, in \u001b[0;36mload\u001b[0;34m(file, mmap_mode, allow_pickle, fix_imports, encoding)\u001b[0m\n\u001b[1;32m    388\u001b[0m     own_fid \u001b[38;5;241m=\u001b[39m \u001b[38;5;28;01mFalse\u001b[39;00m\n\u001b[1;32m    389\u001b[0m \u001b[38;5;28;01melse\u001b[39;00m:\n\u001b[0;32m--> 390\u001b[0m     fid \u001b[38;5;241m=\u001b[39m stack\u001b[38;5;241m.\u001b[39menter_context(\u001b[38;5;28;43mopen\u001b[39;49m\u001b[43m(\u001b[49m\u001b[43mos_fspath\u001b[49m\u001b[43m(\u001b[49m\u001b[43mfile\u001b[49m\u001b[43m)\u001b[49m\u001b[43m,\u001b[49m\u001b[43m \u001b[49m\u001b[38;5;124;43m\"\u001b[39;49m\u001b[38;5;124;43mrb\u001b[39;49m\u001b[38;5;124;43m\"\u001b[39;49m\u001b[43m)\u001b[49m)\n\u001b[1;32m    391\u001b[0m     own_fid \u001b[38;5;241m=\u001b[39m \u001b[38;5;28;01mTrue\u001b[39;00m\n\u001b[1;32m    393\u001b[0m \u001b[38;5;66;03m# Code to distinguish from NumPy binary files and pickles.\u001b[39;00m\n",
      "\u001b[0;31mOSError\u001b[0m: [Errno 19] No such device: '../get_some_ion_contained_pos_folder_p_list/NH4_contained_poscar_folder_path_list_ver2.npy'"
     ]
    }
   ],
   "source": [
    "npy_path = '../get_some_ion_contained_pos_folder_p_list/NH4_contained_poscar_folder_path_list_ver2.npy'\n",
    "\n",
    "ion_contained_pos_folder_p_list = np.load(npy_path, allow_pickle=True)\n",
    "print(ion_contained_pos_folder_p_list)"
   ]
  },
  {
   "cell_type": "code",
   "execution_count": null,
   "id": "9bb277f5-951e-4b35-808f-e04f3309ec13",
   "metadata": {},
   "outputs": [],
   "source": []
  }
 ],
 "metadata": {
  "kernelspec": {
   "display_name": "Python 3 (ipykernel)",
   "language": "python",
   "name": "python3"
  },
  "language_info": {
   "codemirror_mode": {
    "name": "ipython",
    "version": 3
   },
   "file_extension": ".py",
   "mimetype": "text/x-python",
   "name": "python",
   "nbconvert_exporter": "python",
   "pygments_lexer": "ipython3",
   "version": "3.10.12"
  }
 },
 "nbformat": 4,
 "nbformat_minor": 5
}
